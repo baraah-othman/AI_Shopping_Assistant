{
  "cells": [
    {
      "cell_type": "code",
      "execution_count": null,
      "metadata": {
        "id": "XXBa7zJT39Xs"
      },
      "outputs": [],
      "source": [
        "!pip install -qU llama-index datasets pinecone-client openai transformers\n"
      ]
    },
    {
      "cell_type": "code",
      "execution_count": null,
      "metadata": {
        "id": "SxtiWMsD4ikk"
      },
      "outputs": [],
      "source": [
        "import pandas as pd\n",
        "\n",
        "df=pd.read_csv('your_dataset.csv')\n",
        "df.head()"
      ]
    },
    {
      "cell_type": "code",
      "execution_count": null,
      "metadata": {
        "id": "BdVaLd774jNj"
      },
      "outputs": [],
      "source": [
        "df['category']=df['L1 - category']\n",
        "df['subcategory']=df['L2 - sub-category']\n",
        "\n",
        "df['gender']=df['L0 - gender']\n",
        "df=df[['title','description','image_link','category','subcategory','product_type','brand','gender','price','season','color','condition']]\n",
        "\n",
        "\n"
      ]
    },
    {
      "cell_type": "code",
      "execution_count": null,
      "metadata": {
        "id": "LKZIKwYz4vgK"
      },
      "outputs": [],
      "source": [
        "df=df.dropna()\n"
      ]
    },
    {
      "cell_type": "code",
      "execution_count": null,
      "metadata": {
        "id": "SC93STNf4wGL"
      },
      "outputs": [],
      "source": [
        "df.info()\n"
      ]
    },
    {
      "cell_type": "code",
      "execution_count": null,
      "metadata": {
        "id": "BaoTxTDb4xeL"
      },
      "outputs": [],
      "source": [
        "import os\n",
        "from llama_index import ServiceContext, LLMPredictor, OpenAIEmbedding, PromptHelper\n",
        "from llama_index.llms import OpenAI\n",
        "from llama_index.text_splitter import TokenTextSplitter\n",
        "from llama_index.node_parser import SimpleNodeParser\n",
        "from llama_index import VectorStoreIndex, SimpleDirectoryReader,KeywordTableIndex\n",
        "from llama_index import set_global_service_context"
      ]
    },
    {
      "cell_type": "code",
      "execution_count": null,
      "metadata": {
        "id": "l63jLvKBxInY"
      },
      "outputs": [],
      "source": [
        "from pathlib import Path\n",
        "from llama_index import download_loader\n",
        "#Reading the data\n",
        "PandasCSVReader = download_loader(\"PandasCSVReader\")\n",
        "\n",
        "loader = PandasCSVReader()\n",
        "docs = loader.load_data(file=Path('./your_dataset.csv'))"
      ]
    },
    {
      "cell_type": "code",
      "execution_count": null,
      "metadata": {
        "id": "aOTqODwxZFj4"
      },
      "outputs": [],
      "source": [
        "from llama_index import Document\n",
        "from llama_index.node_parser import SentenceSplitter\n",
        "import tiktoken\n",
        "#Creating nodes from the documents\n",
        "node_parser=SimpleNodeParser()\n",
        "\n",
        "nodes = node_parser.get_nodes_from_documents(\n",
        "    docs\n",
        ")\n",
        "nodes[0]"
      ]
    },
    {
      "cell_type": "code",
      "execution_count": null,
      "metadata": {
        "id": "AZU55RRC5AkV"
      },
      "outputs": [],
      "source": [
        "#Specify the models are going to use in the service context to create our index\n",
        "llm = OpenAI(model='gpt-3.5-turbo', temperature=0, max_tokens=256)\n",
        "\n",
        "embed_model = OpenAIEmbedding()\n",
        "\n",
        "prompt_helper = PromptHelper(\n",
        "\n",
        "  context_window=4096,\n",
        "\n",
        "  num_output=256,\n",
        "\n",
        "  chunk_overlap_ratio=0.2,\n",
        "\n",
        "  chunk_size_limit=None\n",
        "\n",
        ")\n",
        "\n",
        "service_context = ServiceContext.from_defaults(\n",
        "\n",
        "  llm=llm,\n",
        "\n",
        "  embed_model=embed_model,\n",
        "\n",
        "  node_parser=node_parser,\n",
        "\n",
        "  prompt_helper=prompt_helper\n",
        "\n",
        ")"
      ]
    },
    {
      "cell_type": "code",
      "execution_count": null,
      "metadata": {
        "id": "qNl-nalg5Dov"
      },
      "outputs": [],
      "source": [
        "#creating the index\n",
        "index = VectorStoreIndex.from_documents(\n",
        "    docs,\n",
        "    service_context = service_context\n",
        "    )"
      ]
    },
    {
      "cell_type": "code",
      "execution_count": null,
      "metadata": {
        "id": "XFL0mZiC5veI"
      },
      "outputs": [],
      "source": [
        "# Persisting to disk\n",
        "index.storage_context.persist(persist_dir=\"Directory_to_Save_your_index\")"
      ]
    }
  ],
  "metadata": {
    "accelerator": "TPU",
    "colab": {
      "provenance": []
    },
    "kernelspec": {
      "display_name": "Python 3",
      "name": "python3"
    },
    "language_info": {
      "name": "python"
    }
  },
  "nbformat": 4,
  "nbformat_minor": 0
}